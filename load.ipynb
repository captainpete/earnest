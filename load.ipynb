{
 "cells": [
  {
   "cell_type": "code",
   "execution_count": 1,
   "id": "initial_id",
   "metadata": {
    "ExecuteTime": {
     "end_time": "2024-11-08T09:02:33.464704Z",
     "start_time": "2024-11-08T09:02:33.335843Z"
    }
   },
   "outputs": [],
   "source": [
    "import pandas as pd\n",
    "import numpy as np\n",
    "import ollama\n",
    "from names_dataset import NameDataset\n",
    "from tqdm.auto import tqdm\n",
    "from tqdm.contrib.concurrent import thread_map"
   ]
  },
  {
   "cell_type": "code",
   "execution_count": 4,
   "id": "05b2b78a-473a-4ee1-b379-f89f1b3711ba",
   "metadata": {},
   "outputs": [
    {
     "data": {
      "text/plain": [
       "768"
      ]
     },
     "execution_count": 4,
     "metadata": {},
     "output_type": "execute_result"
    }
   ],
   "source": [
    "len(ollama.embeddings(model='nomic-embed-text', prompt=f\"Name: Peter\")['embedding'])"
   ]
  },
  {
   "cell_type": "code",
   "execution_count": 2,
   "id": "f4d6e5548f30f209",
   "metadata": {},
   "outputs": [],
   "source": [
    "nd = NameDataset()\n",
    "names = nd.first_names"
   ]
  },
  {
   "cell_type": "code",
   "execution_count": 3,
   "id": "9c5b5530-dd8f-4979-a11b-a714b64ecbb7",
   "metadata": {},
   "outputs": [],
   "source": [
    "df = pd.DataFrame(index=names.keys())\n",
    "\n",
    "# english characters only\n",
    "df = df[df.index.str.contains(r'^[a-zA-Z\\']+$', regex=True)].copy()"
   ]
  },
  {
   "cell_type": "code",
   "execution_count": 4,
   "id": "da3ca20e-56f4-42e8-8026-03088043c574",
   "metadata": {},
   "outputs": [],
   "source": [
    "# # short list\n",
    "# df = df.sample(1000)"
   ]
  },
  {
   "cell_type": "code",
   "execution_count": 5,
   "id": "5f38e01dc49e37fa",
   "metadata": {},
   "outputs": [
    {
     "data": {
      "application/vnd.jupyter.widget-view+json": {
       "model_id": "05e92a8da2c74992ba1b422f8877b4cf",
       "version_major": 2,
       "version_minor": 0
      },
      "text/plain": [
       "  0%|          | 0/416880 [00:00<?, ?it/s]"
      ]
     },
     "metadata": {},
     "output_type": "display_data"
    }
   ],
   "source": [
    "# genders\n",
    "df_gender = pd.DataFrame(index=df.index)\n",
    "df_gender['gender_F'] = 0.0\n",
    "df_gender['gender_M'] = 0.0\n",
    "\n",
    "# assign values from dataset\n",
    "for name in tqdm(df.index):\n",
    "    meta = names[name]\n",
    "    for g, v in meta['gender'].items():\n",
    "        df_gender.loc[name, f\"gender_{g}\"] = v"
   ]
  },
  {
   "cell_type": "code",
   "execution_count": 6,
   "id": "bb64abcd-146e-4bc8-abf8-dc88709adacf",
   "metadata": {},
   "outputs": [
    {
     "data": {
      "application/vnd.jupyter.widget-view+json": {
       "model_id": "4d5214babfc941229ef7c3c3cd6ae9ae",
       "version_major": 2,
       "version_minor": 0
      },
      "text/plain": [
       "  0%|          | 0/416880 [00:00<?, ?it/s]"
      ]
     },
     "metadata": {},
     "output_type": "display_data"
    }
   ],
   "source": [
    "# full list of countries\n",
    "countries = set()\n",
    "for name in df.index:\n",
    "    countries.update(names[name]['country'].keys())\n",
    "countries = list(countries)\n",
    "df_countries = pd.DataFrame({c: [0.0] * len(df) for c in countries}, index=df.index)\n",
    "\n",
    "# assign values from dataset\n",
    "for name in tqdm(df.index):\n",
    "    meta = names[name]\n",
    "    for c, v in meta['country'].items():\n",
    "        df_countries.loc[name, c] = v"
   ]
  },
  {
   "cell_type": "code",
   "execution_count": 7,
   "id": "d1f71a5b-5218-4424-b0ad-b9acaa59e283",
   "metadata": {},
   "outputs": [
    {
     "data": {
      "application/vnd.jupyter.widget-view+json": {
       "model_id": "3cb14bc708e748afb51f4a7573119d11",
       "version_major": 2,
       "version_minor": 0
      },
      "text/plain": [
       "  0%|          | 0/416880 [00:00<?, ?it/s]"
      ]
     },
     "metadata": {},
     "output_type": "display_data"
    }
   ],
   "source": [
    "embed = lambda name: np.array(ollama.embeddings(model='nomic-embed-text', prompt=f\"Name: {name}\")['embedding'])\n",
    "embeddings = np.stack(thread_map(embed, df.index))\n",
    "df_emb = pd.DataFrame(embeddings, columns=[f\"dim_{i}\" for i in range(embeddings.shape[1])], index=df.index)"
   ]
  },
  {
   "cell_type": "code",
   "execution_count": 8,
   "id": "d79da098-89ae-4ba7-a211-04920b93727f",
   "metadata": {},
   "outputs": [],
   "source": [
    "df_combined = pd.concat((df, df_gender, df_countries, df_emb), axis=1)"
   ]
  },
  {
   "cell_type": "code",
   "execution_count": 9,
   "id": "b6be8f34-a7b3-4077-9531-7b4d7015992d",
   "metadata": {},
   "outputs": [],
   "source": [
    "df_combined.to_pickle(\"baby_names_full.pkl\")"
   ]
  },
  {
   "cell_type": "code",
   "execution_count": null,
   "id": "eb6590d9-8c2a-4e4d-9fff-1e4c4d1cf981",
   "metadata": {},
   "outputs": [],
   "source": []
  },
  {
   "cell_type": "code",
   "execution_count": null,
   "id": "9a8f5484-71ea-42c6-941a-a3d319c4e87a",
   "metadata": {},
   "outputs": [],
   "source": []
  },
  {
   "cell_type": "code",
   "execution_count": null,
   "id": "1b59ff173f831b19",
   "metadata": {},
   "outputs": [],
   "source": []
  }
 ],
 "metadata": {
  "kernelspec": {
   "display_name": "Python 3 (ipykernel)",
   "language": "python",
   "name": "python3"
  },
  "language_info": {
   "codemirror_mode": {
    "name": "ipython",
    "version": 3
   },
   "file_extension": ".py",
   "mimetype": "text/x-python",
   "name": "python",
   "nbconvert_exporter": "python",
   "pygments_lexer": "ipython3",
   "version": "3.10.12"
  }
 },
 "nbformat": 4,
 "nbformat_minor": 5
}
